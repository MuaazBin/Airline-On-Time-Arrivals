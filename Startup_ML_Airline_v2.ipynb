{
 "cells": [
  {
   "cell_type": "markdown",
   "metadata": {},
   "source": [
    "#  Challenge Startup ML: Airline On-Time Arrivals \n",
    "## Name: Muaaz Bin Sarfaraz\n",
    "\n",
    "### Task: Binary classification for predicting arrival is more than 15 minutes delayed(ArrDel15) without using any departure delay column as predictor\n",
    "\n",
    "### Data source: US Dept. of Transportation on-time arrival data for non-stop domestic flights by major air carriers to predict arrival delays.\n",
    "#### Link: https://transtats.bts.gov/DL_SelectFields.asp?Table_ID=236&DB_Short_Name=On-Time\n",
    "#### Downloaded with Prezipped check box selected and Filter setting was \n",
    "#### Filter Geography: All \n",
    "#### Filter Year: 2017\n",
    "#### Filter Month: January"
   ]
  },
  {
   "cell_type": "markdown",
   "metadata": {},
   "source": [
    "Approach: We would import the data set and perform basic data cleansing. An intense data visuaisation would be performed that might help in feature engineering, imputing missing values and in feature selection for final model.\n",
    "Once data set is ready we would split into training set and test set by a ratio of 80-20.\n",
    "Training set would be used to train two suitable models with hypertuning/grid search and model that gives the best performance on validation set would be selected. Best model would predict the test set. F1-score and ROC would be used to analyse the test set results. We would end the notebook with a brief note on further work."
   ]
  },
  {
   "cell_type": "code",
   "execution_count": 10,
   "metadata": {
    "collapsed": false
   },
   "outputs": [],
   "source": [
    "import pandas as pd\n",
    "import numpy as np\n",
    "import matplotlib.pyplot as plt\n",
    "import glob\n",
    "import os\n",
    "import matplotlib.pyplot as plt\n",
    "import seaborn as sns\n",
    "from sklearn.model_selection import train_test_split, cross_val_score\n",
    "from sklearn.ensemble import RandomForestClassifier,GradientBoostingClassifier\n",
    "from sklearn import cross_validation\n",
    "from sklearn.model_selection import GridSearchCV\n",
    "from sklearn.metrics import f1_score, make_scorer,roc_curve,confusion_matrix\n",
    "import xgboost as xgb\n",
    "\n",
    "\n"
   ]
  },
  {
   "cell_type": "markdown",
   "metadata": {},
   "source": [
    "# Importing Data Set"
   ]
  },
  {
   "cell_type": "code",
   "execution_count": null,
   "metadata": {
    "collapsed": false
   },
   "outputs": [
    {
     "name": "stderr",
     "output_type": "stream",
     "text": [
      "C:\\Users\\Muaaz\\Anaconda3\\lib\\site-packages\\ipykernel\\__main__.py:5: DtypeWarning: Columns (77) have mixed types. Specify dtype option on import or set low_memory=False.\n",
      "C:\\Users\\Muaaz\\Anaconda3\\lib\\site-packages\\ipykernel\\__main__.py:5: DtypeWarning: Columns (48,77,84) have mixed types. Specify dtype option on import or set low_memory=False.\n"
     ]
    }
   ],
   "source": [
    "# path = r'C:\\startup ML Challenge\\AllDatasets'                    \n",
    "# all_files = glob.glob(os.path.join(path, \"*.csv\"))# advisable to use os.path.join as this makes concatenation OS independent\n",
    "\n",
    "# df_from_each_file = (pd.read_csv(f) for f in all_files)\n",
    "# airlines   = pd.concat(df_from_each_file, ignore_index=True)\n",
    "# # doesn't create a list, nor does it append to one"
   ]
  },
  {
   "cell_type": "markdown",
   "metadata": {},
   "source": [
    "Using all 12 files for the year 2016 (one file per month) crashed the notebook.\n",
    "Using only January 2017 Dataset for the binary classification task."
   ]
  },
  {
   "cell_type": "code",
   "execution_count": 11,
   "metadata": {
    "collapsed": false
   },
   "outputs": [
    {
     "name": "stderr",
     "output_type": "stream",
     "text": [
      "C:\\Users\\Muaaz\\Anaconda3\\lib\\site-packages\\IPython\\core\\interactiveshell.py:2717: DtypeWarning: Columns (48,77,84) have mixed types. Specify dtype option on import or set low_memory=False.\n",
      "  interactivity=interactivity, compiler=compiler, result=result)\n"
     ]
    },
    {
     "data": {
      "text/html": [
       "<div>\n",
       "<style>\n",
       "    .dataframe thead tr:only-child th {\n",
       "        text-align: right;\n",
       "    }\n",
       "\n",
       "    .dataframe thead th {\n",
       "        text-align: left;\n",
       "    }\n",
       "\n",
       "    .dataframe tbody tr th {\n",
       "        vertical-align: top;\n",
       "    }\n",
       "</style>\n",
       "<table border=\"1\" class=\"dataframe\">\n",
       "  <thead>\n",
       "    <tr style=\"text-align: right;\">\n",
       "      <th></th>\n",
       "      <th>Year</th>\n",
       "      <th>Quarter</th>\n",
       "      <th>Month</th>\n",
       "      <th>DayofMonth</th>\n",
       "      <th>DayOfWeek</th>\n",
       "      <th>FlightDate</th>\n",
       "      <th>UniqueCarrier</th>\n",
       "      <th>AirlineID</th>\n",
       "      <th>Carrier</th>\n",
       "      <th>TailNum</th>\n",
       "      <th>...</th>\n",
       "      <th>Div4TailNum</th>\n",
       "      <th>Div5Airport</th>\n",
       "      <th>Div5AirportID</th>\n",
       "      <th>Div5AirportSeqID</th>\n",
       "      <th>Div5WheelsOn</th>\n",
       "      <th>Div5TotalGTime</th>\n",
       "      <th>Div5LongestGTime</th>\n",
       "      <th>Div5WheelsOff</th>\n",
       "      <th>Div5TailNum</th>\n",
       "      <th>Unnamed: 109</th>\n",
       "    </tr>\n",
       "  </thead>\n",
       "  <tbody>\n",
       "    <tr>\n",
       "      <th>0</th>\n",
       "      <td>2017</td>\n",
       "      <td>1</td>\n",
       "      <td>1</td>\n",
       "      <td>17</td>\n",
       "      <td>2</td>\n",
       "      <td>2017-01-17</td>\n",
       "      <td>AA</td>\n",
       "      <td>19805</td>\n",
       "      <td>AA</td>\n",
       "      <td>N583AA</td>\n",
       "      <td>...</td>\n",
       "      <td>NaN</td>\n",
       "      <td>NaN</td>\n",
       "      <td>NaN</td>\n",
       "      <td>NaN</td>\n",
       "      <td>NaN</td>\n",
       "      <td>NaN</td>\n",
       "      <td>NaN</td>\n",
       "      <td>NaN</td>\n",
       "      <td>NaN</td>\n",
       "      <td>NaN</td>\n",
       "    </tr>\n",
       "    <tr>\n",
       "      <th>1</th>\n",
       "      <td>2017</td>\n",
       "      <td>1</td>\n",
       "      <td>1</td>\n",
       "      <td>18</td>\n",
       "      <td>3</td>\n",
       "      <td>2017-01-18</td>\n",
       "      <td>AA</td>\n",
       "      <td>19805</td>\n",
       "      <td>AA</td>\n",
       "      <td>N544AA</td>\n",
       "      <td>...</td>\n",
       "      <td>NaN</td>\n",
       "      <td>NaN</td>\n",
       "      <td>NaN</td>\n",
       "      <td>NaN</td>\n",
       "      <td>NaN</td>\n",
       "      <td>NaN</td>\n",
       "      <td>NaN</td>\n",
       "      <td>NaN</td>\n",
       "      <td>NaN</td>\n",
       "      <td>NaN</td>\n",
       "    </tr>\n",
       "    <tr>\n",
       "      <th>2</th>\n",
       "      <td>2017</td>\n",
       "      <td>1</td>\n",
       "      <td>1</td>\n",
       "      <td>19</td>\n",
       "      <td>4</td>\n",
       "      <td>2017-01-19</td>\n",
       "      <td>AA</td>\n",
       "      <td>19805</td>\n",
       "      <td>AA</td>\n",
       "      <td>N553AA</td>\n",
       "      <td>...</td>\n",
       "      <td>NaN</td>\n",
       "      <td>NaN</td>\n",
       "      <td>NaN</td>\n",
       "      <td>NaN</td>\n",
       "      <td>NaN</td>\n",
       "      <td>NaN</td>\n",
       "      <td>NaN</td>\n",
       "      <td>NaN</td>\n",
       "      <td>NaN</td>\n",
       "      <td>NaN</td>\n",
       "    </tr>\n",
       "    <tr>\n",
       "      <th>3</th>\n",
       "      <td>2017</td>\n",
       "      <td>1</td>\n",
       "      <td>1</td>\n",
       "      <td>20</td>\n",
       "      <td>5</td>\n",
       "      <td>2017-01-20</td>\n",
       "      <td>AA</td>\n",
       "      <td>19805</td>\n",
       "      <td>AA</td>\n",
       "      <td>N191AA</td>\n",
       "      <td>...</td>\n",
       "      <td>NaN</td>\n",
       "      <td>NaN</td>\n",
       "      <td>NaN</td>\n",
       "      <td>NaN</td>\n",
       "      <td>NaN</td>\n",
       "      <td>NaN</td>\n",
       "      <td>NaN</td>\n",
       "      <td>NaN</td>\n",
       "      <td>NaN</td>\n",
       "      <td>NaN</td>\n",
       "    </tr>\n",
       "    <tr>\n",
       "      <th>4</th>\n",
       "      <td>2017</td>\n",
       "      <td>1</td>\n",
       "      <td>1</td>\n",
       "      <td>21</td>\n",
       "      <td>6</td>\n",
       "      <td>2017-01-21</td>\n",
       "      <td>AA</td>\n",
       "      <td>19805</td>\n",
       "      <td>AA</td>\n",
       "      <td>N170AA</td>\n",
       "      <td>...</td>\n",
       "      <td>NaN</td>\n",
       "      <td>NaN</td>\n",
       "      <td>NaN</td>\n",
       "      <td>NaN</td>\n",
       "      <td>NaN</td>\n",
       "      <td>NaN</td>\n",
       "      <td>NaN</td>\n",
       "      <td>NaN</td>\n",
       "      <td>NaN</td>\n",
       "      <td>NaN</td>\n",
       "    </tr>\n",
       "  </tbody>\n",
       "</table>\n",
       "<p>5 rows × 110 columns</p>\n",
       "</div>"
      ],
      "text/plain": [
       "   Year  Quarter  Month  DayofMonth  DayOfWeek  FlightDate UniqueCarrier  \\\n",
       "0  2017        1      1          17          2  2017-01-17            AA   \n",
       "1  2017        1      1          18          3  2017-01-18            AA   \n",
       "2  2017        1      1          19          4  2017-01-19            AA   \n",
       "3  2017        1      1          20          5  2017-01-20            AA   \n",
       "4  2017        1      1          21          6  2017-01-21            AA   \n",
       "\n",
       "   AirlineID Carrier TailNum      ...       Div4TailNum  Div5Airport  \\\n",
       "0      19805      AA  N583AA      ...               NaN          NaN   \n",
       "1      19805      AA  N544AA      ...               NaN          NaN   \n",
       "2      19805      AA  N553AA      ...               NaN          NaN   \n",
       "3      19805      AA  N191AA      ...               NaN          NaN   \n",
       "4      19805      AA  N170AA      ...               NaN          NaN   \n",
       "\n",
       "   Div5AirportID  Div5AirportSeqID Div5WheelsOn Div5TotalGTime  \\\n",
       "0            NaN               NaN          NaN            NaN   \n",
       "1            NaN               NaN          NaN            NaN   \n",
       "2            NaN               NaN          NaN            NaN   \n",
       "3            NaN               NaN          NaN            NaN   \n",
       "4            NaN               NaN          NaN            NaN   \n",
       "\n",
       "  Div5LongestGTime  Div5WheelsOff Div5TailNum  Unnamed: 109  \n",
       "0              NaN            NaN         NaN           NaN  \n",
       "1              NaN            NaN         NaN           NaN  \n",
       "2              NaN            NaN         NaN           NaN  \n",
       "3              NaN            NaN         NaN           NaN  \n",
       "4              NaN            NaN         NaN           NaN  \n",
       "\n",
       "[5 rows x 110 columns]"
      ]
     },
     "execution_count": 11,
     "metadata": {},
     "output_type": "execute_result"
    }
   ],
   "source": [
    "airlines=pd.read_csv('On_Time_On_Time_Performance_2017_1.csv')\n",
    "airlines.head() #printing five initial rows to check import success"
   ]
  },
  {
   "cell_type": "markdown",
   "metadata": {},
   "source": [
    "# 1.0 Data Wrangling\n",
    "More than 100 dimensions in the table, however looks like most of the columns have NaN values. Would check the percentage of missing values and decide whether to impute values or drop the column from final prediction model."
   ]
  },
  {
   "cell_type": "code",
   "execution_count": 3,
   "metadata": {
    "collapsed": false
   },
   "outputs": [
    {
     "name": "stdout",
     "output_type": "stream",
     "text": [
      "(450017, 110)\n"
     ]
    }
   ],
   "source": [
    "print (airlines.shape) # to check row and col dimension"
   ]
  },
  {
   "cell_type": "code",
   "execution_count": 4,
   "metadata": {
    "collapsed": false
   },
   "outputs": [
    {
     "data": {
      "text/plain": [
       "Year                    0.000000\n",
       "Quarter                 0.000000\n",
       "Month                   0.000000\n",
       "DayofMonth              0.000000\n",
       "DayOfWeek               0.000000\n",
       "FlightDate              0.000000\n",
       "UniqueCarrier           0.000000\n",
       "AirlineID               0.000000\n",
       "Carrier                 0.000000\n",
       "TailNum                 0.141995\n",
       "FlightNum               0.000000\n",
       "OriginAirportID         0.000000\n",
       "OriginAirportSeqID      0.000000\n",
       "OriginCityMarketID      0.000000\n",
       "Origin                  0.000000\n",
       "OriginCityName          0.000000\n",
       "OriginState             0.000000\n",
       "OriginStateFips         0.000000\n",
       "OriginStateName         0.000000\n",
       "OriginWac               0.000000\n",
       "DestAirportID           0.000000\n",
       "DestAirportSeqID        0.000000\n",
       "DestCityMarketID        0.000000\n",
       "Dest                    0.000000\n",
       "DestCityName            0.000000\n",
       "DestState               0.000000\n",
       "DestStateFips           0.000000\n",
       "DestStateName           0.000000\n",
       "DestWac                 0.000000\n",
       "CRSDepTime              0.000000\n",
       "                         ...    \n",
       "Div2WheelsOn           99.993778\n",
       "Div2TotalGTime         99.993778\n",
       "Div2LongestGTime       99.993778\n",
       "Div2WheelsOff          99.997333\n",
       "Div2TailNum            99.997333\n",
       "Div3Airport           100.000000\n",
       "Div3AirportID         100.000000\n",
       "Div3AirportSeqID      100.000000\n",
       "Div3WheelsOn          100.000000\n",
       "Div3TotalGTime        100.000000\n",
       "Div3LongestGTime      100.000000\n",
       "Div3WheelsOff         100.000000\n",
       "Div3TailNum           100.000000\n",
       "Div4Airport           100.000000\n",
       "Div4AirportID         100.000000\n",
       "Div4AirportSeqID      100.000000\n",
       "Div4WheelsOn          100.000000\n",
       "Div4TotalGTime        100.000000\n",
       "Div4LongestGTime      100.000000\n",
       "Div4WheelsOff         100.000000\n",
       "Div4TailNum           100.000000\n",
       "Div5Airport           100.000000\n",
       "Div5AirportID         100.000000\n",
       "Div5AirportSeqID      100.000000\n",
       "Div5WheelsOn          100.000000\n",
       "Div5TotalGTime        100.000000\n",
       "Div5LongestGTime      100.000000\n",
       "Div5WheelsOff         100.000000\n",
       "Div5TailNum           100.000000\n",
       "Unnamed: 109          100.000000\n",
       "dtype: float64"
      ]
     },
     "execution_count": 4,
     "metadata": {},
     "output_type": "execute_result"
    }
   ],
   "source": [
    "(len(airlines.index) - airlines.count())*100/len(airlines.index) #calculating missing value percentage per column"
   ]
  },
  {
   "cell_type": "markdown",
   "metadata": {},
   "source": [
    "### Many columns seem to be NULL (100% missing values), lets inspect further to confirm column index and drop them"
   ]
  },
  {
   "cell_type": "code",
   "execution_count": 12,
   "metadata": {
    "collapsed": false
   },
   "outputs": [
    {
     "name": "stdout",
     "output_type": "stream",
     "text": [
      "[48, 56, 57, 58, 59, 60, 61, 62, 63, 65, 66, 67, 68, 69, 70, 71, 72, 73, 74, 75, 76, 77, 78, 79, 80, 81, 82, 83, 84, 85, 86, 87, 88, 89, 90, 91, 92, 93, 94, 95, 96, 97, 98, 99, 100, 101, 102, 103, 104, 105, 106, 107, 108, 109]\n"
     ]
    }
   ],
   "source": [
    "missingvalues_col=[] #creating empty list\n",
    "for i in range(110):\n",
    "    if  airlines.iloc[:,i].count()< (len(airlines.index)*0.3): #if count of values in the column is less than 30% of total row count\n",
    "        missingvalues_col.append(i)\n",
    "print (missingvalues_col) #column index where missing values are more than 70%"
   ]
  },
  {
   "cell_type": "markdown",
   "metadata": {},
   "source": [
    "#### Time to remove columns listed in missingvalues_col because they have more than 70% missing values. Would just create a bias if we try to impute it in any way."
   ]
  },
  {
   "cell_type": "code",
   "execution_count": 13,
   "metadata": {
    "collapsed": false
   },
   "outputs": [],
   "source": [
    "airlines.drop(airlines.columns[[missingvalues_col]], axis=1, inplace=True) \n",
    "#dropping columns where missing values are more than 70%"
   ]
  },
  {
   "cell_type": "code",
   "execution_count": 8,
   "metadata": {
    "collapsed": false
   },
   "outputs": [
    {
     "name": "stdout",
     "output_type": "stream",
     "text": [
      "(450017, 56)\n"
     ]
    },
    {
     "data": {
      "text/plain": [
       "Year                    0.000000\n",
       "Quarter                 0.000000\n",
       "Month                   0.000000\n",
       "DayofMonth              0.000000\n",
       "DayOfWeek               0.000000\n",
       "FlightDate              0.000000\n",
       "UniqueCarrier           0.000000\n",
       "AirlineID               0.000000\n",
       "Carrier                 0.000000\n",
       "TailNum                 0.141995\n",
       "FlightNum               0.000000\n",
       "OriginAirportID         0.000000\n",
       "OriginAirportSeqID      0.000000\n",
       "OriginCityMarketID      0.000000\n",
       "Origin                  0.000000\n",
       "OriginCityName          0.000000\n",
       "OriginState             0.000000\n",
       "OriginStateFips         0.000000\n",
       "OriginStateName         0.000000\n",
       "OriginWac               0.000000\n",
       "DestAirportID           0.000000\n",
       "DestAirportSeqID        0.000000\n",
       "DestCityMarketID        0.000000\n",
       "Dest                    0.000000\n",
       "DestCityName            0.000000\n",
       "DestState               0.000000\n",
       "DestStateFips           0.000000\n",
       "DestStateName           0.000000\n",
       "DestWac                 0.000000\n",
       "CRSDepTime              0.000000\n",
       "DepTime                 1.897928\n",
       "DepDelay                1.897928\n",
       "DepDelayMinutes         1.897928\n",
       "DepDel15                1.897928\n",
       "DepartureDelayGroups    1.897928\n",
       "DepTimeBlk              0.000000\n",
       "TaxiOut                 1.949482\n",
       "WheelsOff               1.949482\n",
       "WheelsOn                2.060144\n",
       "TaxiIn                  2.060144\n",
       "CRSArrTime              0.000000\n",
       "ArrTime                 2.060144\n",
       "ArrDelay                2.304802\n",
       "ArrDelayMinutes         2.304802\n",
       "ArrDel15                2.304802\n",
       "ArrivalDelayGroups      2.304802\n",
       "ArrTimeBlk              0.000000\n",
       "Cancelled               0.000000\n",
       "Diverted                0.000000\n",
       "CRSElapsedTime          0.000889\n",
       "ActualElapsedTime       2.304802\n",
       "AirTime                 2.304802\n",
       "Flights                 0.000000\n",
       "Distance                0.000000\n",
       "DistanceGroup           0.000000\n",
       "DivAirportLandings      0.000000\n",
       "dtype: float64"
      ]
     },
     "execution_count": 8,
     "metadata": {},
     "output_type": "execute_result"
    }
   ],
   "source": [
    "print (airlines.shape)\n",
    "(len(airlines.index) - airlines.count())*100/len(airlines.index) #analysing missing_value column again "
   ]
  },
  {
   "cell_type": "markdown",
   "metadata": {},
   "source": [
    "Problem is reduced to 56 dimensions from 110 dimensions after dropping columns with more than 70% missing values"
   ]
  },
  {
   "cell_type": "markdown",
   "metadata": {},
   "source": [
    "Rows where ArrDel15(response variable/label) is missing can neither be used for training or testing , so dropping such rows"
   ]
  },
  {
   "cell_type": "code",
   "execution_count": 14,
   "metadata": {
    "collapsed": false
   },
   "outputs": [
    {
     "name": "stdout",
     "output_type": "stream",
     "text": [
      "(439645, 56)\n"
     ]
    },
    {
     "data": {
      "text/plain": [
       "Year                    0.0\n",
       "Quarter                 0.0\n",
       "Month                   0.0\n",
       "DayofMonth              0.0\n",
       "DayOfWeek               0.0\n",
       "FlightDate              0.0\n",
       "UniqueCarrier           0.0\n",
       "AirlineID               0.0\n",
       "Carrier                 0.0\n",
       "TailNum                 0.0\n",
       "FlightNum               0.0\n",
       "OriginAirportID         0.0\n",
       "OriginAirportSeqID      0.0\n",
       "OriginCityMarketID      0.0\n",
       "Origin                  0.0\n",
       "OriginCityName          0.0\n",
       "OriginState             0.0\n",
       "OriginStateFips         0.0\n",
       "OriginStateName         0.0\n",
       "OriginWac               0.0\n",
       "DestAirportID           0.0\n",
       "DestAirportSeqID        0.0\n",
       "DestCityMarketID        0.0\n",
       "Dest                    0.0\n",
       "DestCityName            0.0\n",
       "DestState               0.0\n",
       "DestStateFips           0.0\n",
       "DestStateName           0.0\n",
       "DestWac                 0.0\n",
       "CRSDepTime              0.0\n",
       "DepTime                 0.0\n",
       "DepDelay                0.0\n",
       "DepDelayMinutes         0.0\n",
       "DepDel15                0.0\n",
       "DepartureDelayGroups    0.0\n",
       "DepTimeBlk              0.0\n",
       "TaxiOut                 0.0\n",
       "WheelsOff               0.0\n",
       "WheelsOn                0.0\n",
       "TaxiIn                  0.0\n",
       "CRSArrTime              0.0\n",
       "ArrTime                 0.0\n",
       "ArrDelay                0.0\n",
       "ArrDelayMinutes         0.0\n",
       "ArrDel15                0.0\n",
       "ArrivalDelayGroups      0.0\n",
       "ArrTimeBlk              0.0\n",
       "Cancelled               0.0\n",
       "Diverted                0.0\n",
       "CRSElapsedTime          0.0\n",
       "ActualElapsedTime       0.0\n",
       "AirTime                 0.0\n",
       "Flights                 0.0\n",
       "Distance                0.0\n",
       "DistanceGroup           0.0\n",
       "DivAirportLandings      0.0\n",
       "dtype: float64"
      ]
     },
     "execution_count": 14,
     "metadata": {},
     "output_type": "execute_result"
    }
   ],
   "source": [
    "airlines=airlines.dropna(subset=['ArrDel15'], how='any') \n",
    "#dropping rows where main response class is missing\n",
    "print (airlines.shape)\n",
    "(len(airlines.index) - airlines.count())*100/len(airlines.index) \n",
    "#analysing missing_value column again"
   ]
  },
  {
   "cell_type": "markdown",
   "metadata": {},
   "source": [
    "Fortunately removing rows where response class(label) was missing ended up with no missing values in any predictor class(attributes). We are so lucky Yayyy... No more missing values no hustle of imputing values."
   ]
  },
  {
   "cell_type": "markdown",
   "metadata": {},
   "source": [
    "Since the data is from 2017 Jan only the column Year, Quarter and Month are static(same) for all rows and can be dropped."
   ]
  },
  {
   "cell_type": "code",
   "execution_count": 15,
   "metadata": {
    "collapsed": false
   },
   "outputs": [
    {
     "name": "stdout",
     "output_type": "stream",
     "text": [
      "(439645, 53)\n"
     ]
    }
   ],
   "source": [
    "list =['Year','Quarter' ,'Month' ]            \n",
    "airlines=airlines.drop(list,1)\n",
    "print(airlines.shape)"
   ]
  },
  {
   "cell_type": "markdown",
   "metadata": {},
   "source": [
    "# 2.0 Understanding Data using Visualisation and basic Statistics\n",
    "\n",
    "### Before we jump into the prediction task its better to visualise the data and try to have some understanding of the data. This might help us in feature engineering or data transformation.\n",
    "\n",
    "* Visualisation influenced by work on kaggle and github on airline dataset"
   ]
  },
  {
   "cell_type": "code",
   "execution_count": 31,
   "metadata": {
    "collapsed": false
   },
   "outputs": [
    {
     "data": {
      "image/png": "[encoded data removed]",
      "text/plain": [
       "<matplotlib.figure.Figure at 0x2803f664ba8>"
      ]
     },
     "metadata": {},
     "output_type": "display_data"
    },
    {
     "data": {
      "image/png": "[encoded data removed]",
      "text/plain": [
       "<matplotlib.figure.Figure at 0x28010cd14e0>"
      ]
     },
     "metadata": {},
     "output_type": "display_data"
    },
    {
     "data": {
      "image/png": "[encoded data removed]",
      "text/plain": [
       "<matplotlib.figure.Figure at 0x2801c479748>"
      ]
     },
     "metadata": {},
     "output_type": "display_data"
    },
    {
     "data": {
      "image/png": "[encoded data removed]",
      "text/plain": [
       "<matplotlib.figure.Figure at 0x2801d51b828>"
      ]
     },
     "metadata": {},
     "output_type": "display_data"
    },
    {
     "data": {
      "image/png": "[encoded data removed]",
      "text/plain": [
       "<matplotlib.figure.Figure at 0x28010d51f60>"
      ]
     },
     "metadata": {},
     "output_type": "display_data"
    }
   ],
   "source": [
    "# The percentage of late flights based on all flights in the dataset\n",
    "late_avg = np.sum(airlines.ArrDel15) / airlines.ArrDel15.shape[0]\n",
    "\n",
    "x_axis = ['DayOfWeek', 'DayofMonth', 'UniqueCarrier','OriginAirportID','DestAirportID']\n",
    "\n",
    "for col in x_axis:\n",
    "    \n",
    "    grouped = airlines.groupby([col], as_index=False).aggregate(np.mean)[[col, 'ArrDel15']]\n",
    "    grouped.sort_values(by=col, inplace=True)\n",
    "    \n",
    "    grouped.plot.bar(x=col, y='ArrDel15')\n",
    "    plt.axhline(y=late_avg, label='Average')\n",
    "    plt.ylabel('Percent of Flights that Arrive Late')\n",
    "    plt.title(col)\n",
    "    plt.legend().remove()\n",
    "    plt.xticks(rotation=0)\n",
    "    plt.tight_layout()\n",
    "    plt.show()"
   ]
  },
  {
   "cell_type": "markdown",
   "metadata": {},
   "source": [
    "So out of 1 about 0.2 flights on average are late, even setting all labels at 0 (No flight delayed, a dumb classifier would end up in giving a decent classification accuracy that is more than 50%. In case of a uniformly picked test set close to 70% accuracy is expected. Thus, we can say that evaluating the result using confusion matrix or ROC would be a better choice rather than just looking at missclassifcation error, as it would give us insight into TP,FP,TN and FN."
   ]
  },
  {
   "cell_type": "markdown",
   "metadata": {},
   "source": [
    "Certain Destination and Origin Airports have very high chances of arrival delay. This attribute would be helpful for classifying ArrDel15 variable. Moroever, we see that week 1 and week 7 have on average more chances of flight arriving late. VX carrier has the highest probability of delaying flights on average. "
   ]
  },
  {
   "cell_type": "markdown",
   "metadata": {},
   "source": [
    "### Feature Engineering\n",
    "Since we have distance(miles) of flight and time(minutes) taken we can calculate a new variable (Average fly speed) -miles/hour"
   ]
  },
  {
   "cell_type": "code",
   "execution_count": 16,
   "metadata": {
    "collapsed": false
   },
   "outputs": [
    {
     "data": {
      "image/png": "[encoded data removed]",
      "text/plain": [
       "<matplotlib.figure.Figure at 0x1f8bc6f2710>"
      ]
     },
     "metadata": {},
     "output_type": "display_data"
    }
   ],
   "source": [
    "#sns.set(style=\"whitegrid\")\n",
    "%matplotlib inline\n",
    "#new feature FlySpeed (miles/hour)\n",
    "airlines['FlySpeed'] = 60*airlines['Distance']/airlines['AirTime'] \n",
    "#unit is miles per hour since distance is in Miles and Airtime in minutes\n",
    "sns.set_context(\"notebook\", font_scale=2.5)\n",
    "sns.set(style=\"ticks\", palette=\"muted\", color_codes=True)\n",
    "ax = sns.violinplot(x=\"FlySpeed\", y=\"UniqueCarrier\", data=airlines);\n",
    "sns.despine(trim=True)\n",
    "#source: https://www.kaggle.com/dongxu027/airline-delays-key-learnings"
   ]
  },
  {
   "cell_type": "markdown",
   "metadata": {},
   "source": [
    "Although we assumed VX to be the slowest considering that it was mostly late in compare to other carriers, but, HA is the slowest in speed mostly which had the the lowest chances of being late.  \n",
    "Strange, it seems that carriers who are speeding are actually trying to make it on time while carriers driving slowly know that they would reach on time. "
   ]
  },
  {
   "cell_type": "code",
   "execution_count": 58,
   "metadata": {
    "collapsed": false
   },
   "outputs": [
    {
     "data": {
      "text/plain": [
       "DayofMonth                int64\n",
       "DayOfWeek                 int64\n",
       "FlightDate               object\n",
       "UniqueCarrier            object\n",
       "AirlineID                 int64\n",
       "Carrier                  object\n",
       "TailNum                  object\n",
       "FlightNum                 int64\n",
       "OriginAirportID           int64\n",
       "OriginAirportSeqID        int64\n",
       "OriginCityMarketID        int64\n",
       "Origin                   object\n",
       "OriginCityName           object\n",
       "OriginState              object\n",
       "OriginStateFips           int64\n",
       "OriginStateName          object\n",
       "OriginWac                 int64\n",
       "DestAirportID             int64\n",
       "DestAirportSeqID          int64\n",
       "DestCityMarketID          int64\n",
       "Dest                     object\n",
       "DestCityName             object\n",
       "DestState                object\n",
       "DestStateFips             int64\n",
       "DestStateName            object\n",
       "DestWac                   int64\n",
       "CRSDepTime                int64\n",
       "DepTime                 float64\n",
       "DepDelay                float64\n",
       "DepDelayMinutes         float64\n",
       "DepDel15                float64\n",
       "DepartureDelayGroups    float64\n",
       "DepTimeBlk               object\n",
       "TaxiOut                 float64\n",
       "WheelsOff               float64\n",
       "WheelsOn                float64\n",
       "TaxiIn                  float64\n",
       "CRSArrTime                int64\n",
       "ArrTime                 float64\n",
       "ArrDelay                float64\n",
       "ArrDelayMinutes         float64\n",
       "ArrDel15                float64\n",
       "ArrivalDelayGroups      float64\n",
       "ArrTimeBlk               object\n",
       "Cancelled               float64\n",
       "Diverted                float64\n",
       "CRSElapsedTime          float64\n",
       "ActualElapsedTime       float64\n",
       "AirTime                 float64\n",
       "Flights                 float64\n",
       "Distance                float64\n",
       "DistanceGroup             int64\n",
       "DivAirportLandings        int64\n",
       "FlySpeed                float64\n",
       "dtype: object"
      ]
     },
     "execution_count": 58,
     "metadata": {},
     "output_type": "execute_result"
    }
   ],
   "source": [
    "airlines.dtypes"
   ]
  },
  {
   "cell_type": "code",
   "execution_count": 59,
   "metadata": {
    "collapsed": false
   },
   "outputs": [
    {
     "data": {
      "text/html": [
       "<div>\n",
       "<table border=\"1\" class=\"dataframe\">\n",
       "  <thead>\n",
       "    <tr style=\"text-align: right;\">\n",
       "      <th></th>\n",
       "      <th>DayofMonth</th>\n",
       "      <th>DayOfWeek</th>\n",
       "      <th>AirlineID</th>\n",
       "      <th>FlightNum</th>\n",
       "      <th>OriginAirportID</th>\n",
       "      <th>OriginAirportSeqID</th>\n",
       "      <th>OriginCityMarketID</th>\n",
       "      <th>OriginStateFips</th>\n",
       "      <th>OriginWac</th>\n",
       "      <th>DestAirportID</th>\n",
       "      <th>...</th>\n",
       "      <th>Cancelled</th>\n",
       "      <th>Diverted</th>\n",
       "      <th>CRSElapsedTime</th>\n",
       "      <th>ActualElapsedTime</th>\n",
       "      <th>AirTime</th>\n",
       "      <th>Flights</th>\n",
       "      <th>Distance</th>\n",
       "      <th>DistanceGroup</th>\n",
       "      <th>DivAirportLandings</th>\n",
       "      <th>FlySpeed</th>\n",
       "    </tr>\n",
       "  </thead>\n",
       "  <tbody>\n",
       "    <tr>\n",
       "      <th>count</th>\n",
       "      <td>439645.000000</td>\n",
       "      <td>439645.000000</td>\n",
       "      <td>439645.000000</td>\n",
       "      <td>439645.000000</td>\n",
       "      <td>439645.000000</td>\n",
       "      <td>4.396450e+05</td>\n",
       "      <td>439645.000000</td>\n",
       "      <td>439645.000000</td>\n",
       "      <td>439645.000000</td>\n",
       "      <td>439645.000000</td>\n",
       "      <td>...</td>\n",
       "      <td>439645.0</td>\n",
       "      <td>439645.0</td>\n",
       "      <td>439645.000000</td>\n",
       "      <td>439645.000000</td>\n",
       "      <td>439645.000000</td>\n",
       "      <td>439645.0</td>\n",
       "      <td>439645.000000</td>\n",
       "      <td>439645.000000</td>\n",
       "      <td>439645.0</td>\n",
       "      <td>439645.000000</td>\n",
       "    </tr>\n",
       "    <tr>\n",
       "      <th>mean</th>\n",
       "      <td>16.033184</td>\n",
       "      <td>3.829474</td>\n",
       "      <td>19898.415870</td>\n",
       "      <td>2064.808705</td>\n",
       "      <td>12697.815383</td>\n",
       "      <td>1.269784e+06</td>\n",
       "      <td>31735.499223</td>\n",
       "      <td>25.537891</td>\n",
       "      <td>55.816456</td>\n",
       "      <td>12697.431582</td>\n",
       "      <td>...</td>\n",
       "      <td>0.0</td>\n",
       "      <td>0.0</td>\n",
       "      <td>148.234382</td>\n",
       "      <td>143.172273</td>\n",
       "      <td>118.427863</td>\n",
       "      <td>1.0</td>\n",
       "      <td>854.749541</td>\n",
       "      <td>3.887953</td>\n",
       "      <td>0.0</td>\n",
       "      <td>408.041195</td>\n",
       "    </tr>\n",
       "    <tr>\n",
       "      <th>std</th>\n",
       "      <td>8.979383</td>\n",
       "      <td>2.059095</td>\n",
       "      <td>384.001087</td>\n",
       "      <td>1713.264820</td>\n",
       "      <td>1533.464822</td>\n",
       "      <td>1.533462e+05</td>\n",
       "      <td>1284.471980</td>\n",
       "      <td>16.728061</td>\n",
       "      <td>27.091665</td>\n",
       "      <td>1533.223583</td>\n",
       "      <td>...</td>\n",
       "      <td>0.0</td>\n",
       "      <td>0.0</td>\n",
       "      <td>77.157275</td>\n",
       "      <td>76.701789</td>\n",
       "      <td>74.529136</td>\n",
       "      <td>0.0</td>\n",
       "      <td>617.822547</td>\n",
       "      <td>2.423022</td>\n",
       "      <td>0.0</td>\n",
       "      <td>75.238858</td>\n",
       "    </tr>\n",
       "    <tr>\n",
       "      <th>min</th>\n",
       "      <td>1.000000</td>\n",
       "      <td>1.000000</td>\n",
       "      <td>19393.000000</td>\n",
       "      <td>1.000000</td>\n",
       "      <td>10135.000000</td>\n",
       "      <td>1.013503e+06</td>\n",
       "      <td>30070.000000</td>\n",
       "      <td>1.000000</td>\n",
       "      <td>1.000000</td>\n",
       "      <td>10135.000000</td>\n",
       "      <td>...</td>\n",
       "      <td>0.0</td>\n",
       "      <td>0.0</td>\n",
       "      <td>21.000000</td>\n",
       "      <td>16.000000</td>\n",
       "      <td>7.000000</td>\n",
       "      <td>1.0</td>\n",
       "      <td>31.000000</td>\n",
       "      <td>1.000000</td>\n",
       "      <td>0.0</td>\n",
       "      <td>77.307692</td>\n",
       "    </tr>\n",
       "    <tr>\n",
       "      <th>25%</th>\n",
       "      <td>8.000000</td>\n",
       "      <td>2.000000</td>\n",
       "      <td>19690.000000</td>\n",
       "      <td>676.000000</td>\n",
       "      <td>11292.000000</td>\n",
       "      <td>1.129202e+06</td>\n",
       "      <td>30647.000000</td>\n",
       "      <td>12.000000</td>\n",
       "      <td>34.000000</td>\n",
       "      <td>11292.000000</td>\n",
       "      <td>...</td>\n",
       "      <td>0.0</td>\n",
       "      <td>0.0</td>\n",
       "      <td>90.000000</td>\n",
       "      <td>86.000000</td>\n",
       "      <td>63.000000</td>\n",
       "      <td>1.0</td>\n",
       "      <td>391.000000</td>\n",
       "      <td>2.000000</td>\n",
       "      <td>0.0</td>\n",
       "      <td>361.090909</td>\n",
       "    </tr>\n",
       "    <tr>\n",
       "      <th>50%</th>\n",
       "      <td>16.000000</td>\n",
       "      <td>4.000000</td>\n",
       "      <td>19805.000000</td>\n",
       "      <td>1594.000000</td>\n",
       "      <td>12892.000000</td>\n",
       "      <td>1.289204e+06</td>\n",
       "      <td>31454.000000</td>\n",
       "      <td>24.000000</td>\n",
       "      <td>52.000000</td>\n",
       "      <td>12892.000000</td>\n",
       "      <td>...</td>\n",
       "      <td>0.0</td>\n",
       "      <td>0.0</td>\n",
       "      <td>130.000000</td>\n",
       "      <td>125.000000</td>\n",
       "      <td>100.000000</td>\n",
       "      <td>1.0</td>\n",
       "      <td>689.000000</td>\n",
       "      <td>3.000000</td>\n",
       "      <td>0.0</td>\n",
       "      <td>410.000000</td>\n",
       "    </tr>\n",
       "    <tr>\n",
       "      <th>75%</th>\n",
       "      <td>24.000000</td>\n",
       "      <td>6.000000</td>\n",
       "      <td>20304.000000</td>\n",
       "      <td>2987.000000</td>\n",
       "      <td>14057.000000</td>\n",
       "      <td>1.405702e+06</td>\n",
       "      <td>32467.000000</td>\n",
       "      <td>40.000000</td>\n",
       "      <td>82.000000</td>\n",
       "      <td>14057.000000</td>\n",
       "      <td>...</td>\n",
       "      <td>0.0</td>\n",
       "      <td>0.0</td>\n",
       "      <td>181.000000</td>\n",
       "      <td>176.000000</td>\n",
       "      <td>150.000000</td>\n",
       "      <td>1.0</td>\n",
       "      <td>1096.000000</td>\n",
       "      <td>5.000000</td>\n",
       "      <td>0.0</td>\n",
       "      <td>456.831683</td>\n",
       "    </tr>\n",
       "    <tr>\n",
       "      <th>max</th>\n",
       "      <td>31.000000</td>\n",
       "      <td>7.000000</td>\n",
       "      <td>21171.000000</td>\n",
       "      <td>7439.000000</td>\n",
       "      <td>16218.000000</td>\n",
       "      <td>1.621801e+06</td>\n",
       "      <td>35991.000000</td>\n",
       "      <td>78.000000</td>\n",
       "      <td>93.000000</td>\n",
       "      <td>16218.000000</td>\n",
       "      <td>...</td>\n",
       "      <td>0.0</td>\n",
       "      <td>0.0</td>\n",
       "      <td>712.000000</td>\n",
       "      <td>734.000000</td>\n",
       "      <td>704.000000</td>\n",
       "      <td>1.0</td>\n",
       "      <td>4983.000000</td>\n",
       "      <td>11.000000</td>\n",
       "      <td>0.0</td>\n",
       "      <td>651.428571</td>\n",
       "    </tr>\n",
       "  </tbody>\n",
       "</table>\n",
       "<p>8 rows × 40 columns</p>\n",
       "</div>"
      ],
      "text/plain": [
       "          DayofMonth      DayOfWeek      AirlineID      FlightNum  \\\n",
       "count  439645.000000  439645.000000  439645.000000  439645.000000   \n",
       "mean       16.033184       3.829474   19898.415870    2064.808705   \n",
       "std         8.979383       2.059095     384.001087    1713.264820   \n",
       "min         1.000000       1.000000   19393.000000       1.000000   \n",
       "25%         8.000000       2.000000   19690.000000     676.000000   \n",
       "50%        16.000000       4.000000   19805.000000    1594.000000   \n",
       "75%        24.000000       6.000000   20304.000000    2987.000000   \n",
       "max        31.000000       7.000000   21171.000000    7439.000000   \n",
       "\n",
       "       OriginAirportID  OriginAirportSeqID  OriginCityMarketID  \\\n",
       "count    439645.000000        4.396450e+05       439645.000000   \n",
       "mean      12697.815383        1.269784e+06        31735.499223   \n",
       "std        1533.464822        1.533462e+05         1284.471980   \n",
       "min       10135.000000        1.013503e+06        30070.000000   \n",
       "25%       11292.000000        1.129202e+06        30647.000000   \n",
       "50%       12892.000000        1.289204e+06        31454.000000   \n",
       "75%       14057.000000        1.405702e+06        32467.000000   \n",
       "max       16218.000000        1.621801e+06        35991.000000   \n",
       "\n",
       "       OriginStateFips      OriginWac  DestAirportID      ...        \\\n",
       "count    439645.000000  439645.000000  439645.000000      ...         \n",
       "mean         25.537891      55.816456   12697.431582      ...         \n",
       "std          16.728061      27.091665    1533.223583      ...         \n",
       "min           1.000000       1.000000   10135.000000      ...         \n",
       "25%          12.000000      34.000000   11292.000000      ...         \n",
       "50%          24.000000      52.000000   12892.000000      ...         \n",
       "75%          40.000000      82.000000   14057.000000      ...         \n",
       "max          78.000000      93.000000   16218.000000      ...         \n",
       "\n",
       "       Cancelled  Diverted  CRSElapsedTime  ActualElapsedTime        AirTime  \\\n",
       "count   439645.0  439645.0   439645.000000      439645.000000  439645.000000   \n",
       "mean         0.0       0.0      148.234382         143.172273     118.427863   \n",
       "std          0.0       0.0       77.157275          76.701789      74.529136   \n",
       "min          0.0       0.0       21.000000          16.000000       7.000000   \n",
       "25%          0.0       0.0       90.000000          86.000000      63.000000   \n",
       "50%          0.0       0.0      130.000000         125.000000     100.000000   \n",
       "75%          0.0       0.0      181.000000         176.000000     150.000000   \n",
       "max          0.0       0.0      712.000000         734.000000     704.000000   \n",
       "\n",
       "        Flights       Distance  DistanceGroup  DivAirportLandings  \\\n",
       "count  439645.0  439645.000000  439645.000000            439645.0   \n",
       "mean        1.0     854.749541       3.887953                 0.0   \n",
       "std         0.0     617.822547       2.423022                 0.0   \n",
       "min         1.0      31.000000       1.000000                 0.0   \n",
       "25%         1.0     391.000000       2.000000                 0.0   \n",
       "50%         1.0     689.000000       3.000000                 0.0   \n",
       "75%         1.0    1096.000000       5.000000                 0.0   \n",
       "max         1.0    4983.000000      11.000000                 0.0   \n",
       "\n",
       "            FlySpeed  \n",
       "count  439645.000000  \n",
       "mean      408.041195  \n",
       "std        75.238858  \n",
       "min        77.307692  \n",
       "25%       361.090909  \n",
       "50%       410.000000  \n",
       "75%       456.831683  \n",
       "max       651.428571  \n",
       "\n",
       "[8 rows x 40 columns]"
      ]
     },
     "execution_count": 59,
     "metadata": {},
     "output_type": "execute_result"
    }
   ],
   "source": [
    "airlines.describe()"
   ]
  },
  {
   "cell_type": "markdown",
   "metadata": {},
   "source": [
    "40 dimensions are numeric out of 53 dimensions. However carefully looking at the table we see some columns listed in basic stats are just IDs thus are nominal in nature. Looking at the list of data types and their decription on webiste we can confirm that this dataset is heavily categorical in nature. Random Forrest and Boosted Trees would be good choice for such datasets."
   ]
  },
  {
   "cell_type": "markdown",
   "metadata": {},
   "source": [
    "# 3.0 Model Building"
   ]
  },
  {
   "cell_type": "markdown",
   "metadata": {},
   "source": [
    "Using only relevant predictor columns and avoiding repetition for example Origin ID ,\n",
    "Origin are in essence telling the same story.\n"
   ]
  },
  {
   "cell_type": "markdown",
   "metadata": {},
   "source": [
    "### Transforming Data for classification"
   ]
  },
  {
   "cell_type": "code",
   "execution_count": 17,
   "metadata": {
    "collapsed": false
   },
   "outputs": [],
   "source": [
    "col_to_use =['DayofMonth','DayOfWeek','UniqueCarrier','AirlineID','FlightNum', 'ArrTimeBlk',\n",
    "'OriginAirportID','DestAirportID','DepTime', 'TaxiOut', 'WheelsOff', 'WheelsOn', 'TaxiIn','ArrTime','Cancelled', 'DepTimeBlk',\n",
    " 'Diverted','ActualElapsedTime', 'AirTime', 'Flights', 'Distance', 'DistanceGroup','FlySpeed']\n",
    "\n",
    "features = airlines[col_to_use] #predictors\n",
    "labels=airlines['ArrDel15']  # ArrDel15 the response variable\n",
    "\n",
    "cols_to_transform = [  'UniqueCarrier','DepTimeBlk', 'ArrTimeBlk']\n",
    "features_dummy=pd.get_dummies(features,columns = cols_to_transform );"
   ]
  },
  {
   "cell_type": "markdown",
   "metadata": {},
   "source": [
    "### Splitting into Training Set and Test Set (80% Training Set- 20% Test Set)"
   ]
  },
  {
   "cell_type": "code",
   "execution_count": 18,
   "metadata": {
    "collapsed": true
   },
   "outputs": [],
   "source": [
    "xtrain, xtest, ytrain, ytest = train_test_split(features_dummy, labels, train_size=0.80, random_state=12)"
   ]
  },
  {
   "cell_type": "markdown",
   "metadata": {},
   "source": [
    "### Random Forest Classifier- Model 1"
   ]
  },
  {
   "cell_type": "code",
   "execution_count": 121,
   "metadata": {
    "collapsed": false
   },
   "outputs": [
    {
     "name": "stdout",
     "output_type": "stream",
     "text": [
      "0.929892289771\n"
     ]
    }
   ],
   "source": [
    "forest = RandomForestClassifier(n_estimators = 89)\n",
    "cv = cross_validation.KFold(len(xtrain), n_folds=10, shuffle=False, random_state=12)\n",
    "scores = cross_val_score(forest, xtrain, ytrain, cv=cv)\n",
    "print (sum(scores)/len(scores))\n",
    "#estimated run time 30 minutes"
   ]
  },
  {
   "cell_type": "markdown",
   "metadata": {},
   "source": [
    "A very high accuracy achieved on Training set.\n",
    "Lets try Grid Search for tuning the Model. And also try gradient boosted trees before using the final model on test set."
   ]
  },
  {
   "cell_type": "code",
   "execution_count": 12,
   "metadata": {
    "collapsed": false
   },
   "outputs": [
    {
     "name": "stdout",
     "output_type": "stream",
     "text": [
      "Best parameters set found on development set:\n",
      "\n",
      "{'max_features': 'sqrt', 'n_estimators': 100}\n",
      "Grid scores on development set:\n",
      "\n",
      "0.907 (+/-0.005) for {'max_features': 'sqrt', 'n_estimators': 10}\n",
      "\n",
      "0.912 (+/-0.006) for {'max_features': 'sqrt', 'n_estimators': 20}\n",
      "\n",
      "0.921 (+/-0.001) for {'max_features': 'sqrt', 'n_estimators': 100}\n",
      "\n",
      "0.899 (+/-0.002) for {'max_features': 'log2', 'n_estimators': 10}\n",
      "\n",
      "0.908 (+/-0.001) for {'max_features': 'log2', 'n_estimators': 20}\n",
      "\n",
      "0.919 (+/-0.001) for {'max_features': 'log2', 'n_estimators': 100}\n",
      "\n"
     ]
    }
   ],
   "source": [
    "#  reducing to 2 folds, since computationally expensive, although higher folds are recommended\n",
    "# by default random forest choses feature for branch based on Gini Index, however Information gain and entropy \n",
    "# should also be tried in the grid search. (I am not doing it to avoid computational time)\n",
    "scorer = make_scorer(f1_score, average='micro') # F1-measure captures the essence of both precision and recall\n",
    "forest = RandomForestClassifier()\n",
    "#tuned_parameters = [{'n_estimators': [500,1000], 'max_features': ['auto', 'none']}]\n",
    "tuned_parameters = [{'n_estimators': [10,20,100],'max_features': ['sqrt', 'log2']}]\n",
    "clf = GridSearchCV(forest,tuned_parameters,scoring=scorer, cv=2)\n",
    "clf.fit(xtrain, ytrain)\n",
    "print(\"Best parameters set found on development set:\")\n",
    "print()\n",
    "print(clf.best_params_)\n",
    "print(\"Grid scores on development set:\")\n",
    "print()\n",
    "means = clf.cv_results_['mean_test_score']\n",
    "stds = clf.cv_results_['std_test_score']\n",
    "for mean, std, params in zip(means, stds, clf.cv_results_['params']):\n",
    "    print(\"%0.3f (+/-%0.03f) for %r\"\n",
    "              % (mean, std * 2, params))\n",
    "    print()"
   ]
  },
  {
   "cell_type": "markdown",
   "metadata": {},
   "source": [
    "### Gradient Boosted Decision Trees - Model 2"
   ]
  },
  {
   "cell_type": "markdown",
   "metadata": {},
   "source": [
    "Lets try gradient boosted decision trees"
   ]
  },
  {
   "cell_type": "code",
   "execution_count": 15,
   "metadata": {
    "collapsed": false
   },
   "outputs": [
    {
     "name": "stdout",
     "output_type": "stream",
     "text": [
      "Best parameters set found on development set using Gradient boosting DT:\n",
      "\n",
      "{'max_features': 'sqrt', 'random_state': 12, 'n_estimators': 100}\n",
      "Grid scores on development set using GB:\n",
      "\n",
      "0.782 (+/-0.002) for {'max_features': 'sqrt', 'random_state': 12, 'n_estimators': 10}\n",
      "\n",
      "0.790 (+/-0.002) for {'max_features': 'sqrt', 'random_state': 12, 'n_estimators': 20}\n",
      "\n",
      "0.829 (+/-0.004) for {'max_features': 'sqrt', 'random_state': 12, 'n_estimators': 100}\n",
      "\n",
      "0.780 (+/-0.000) for {'max_features': 'log2', 'random_state': 12, 'n_estimators': 10}\n",
      "\n",
      "0.786 (+/-0.000) for {'max_features': 'log2', 'random_state': 12, 'n_estimators': 20}\n",
      "\n",
      "0.826 (+/-0.002) for {'max_features': 'log2', 'random_state': 12, 'n_estimators': 100}\n",
      "\n"
     ]
    }
   ],
   "source": [
    "scorer = make_scorer(f1_score, average='micro') # F1-measure captures the essence of \n",
    "#both precision and recall\n",
    "gb = GradientBoostingClassifier() #using gradient boosted Decision trees\n",
    "tuned_parameters = [{'n_estimators': [10,20,100],'max_features': ['sqrt', 'log2'],\n",
    "                     'random_state':[12]}] # grid search, random state set to replicate results\n",
    "clf_gb = GridSearchCV(gb,tuned_parameters,scoring=scorer, cv=2) #cv only 2 to avoid computational\n",
    "#expense and time, however larger is recommended if you have computational power and time\n",
    "clf_gb.fit(xtrain, ytrain)\n",
    "print(\"Best parameters set found on development set using Gradient boosting DT:\")\n",
    "print()\n",
    "print(clf_gb.best_params_)\n",
    "print(\"Grid scores on development set using GB:\")\n",
    "print()\n",
    "means = clf_gb.cv_results_['mean_test_score']\n",
    "stds = clf_gb.cv_results_['std_test_score']\n",
    "for mean, std, params in zip(means, stds, clf_gb.cv_results_['params']):\n",
    "    print(\"%0.3f (+/-%0.03f) for %r\"\n",
    "              % (mean, std * 2, params))\n",
    "    print()"
   ]
  },
  {
   "cell_type": "markdown",
   "metadata": {},
   "source": [
    "Lets Try extreme boosted trees"
   ]
  },
  {
   "cell_type": "code",
   "execution_count": 20,
   "metadata": {
    "collapsed": false
   },
   "outputs": [
    {
     "name": "stdout",
     "output_type": "stream",
     "text": [
      "Best parameters set found on development set using Gradient boosting DT:\n",
      "\n",
      "{'n_estimators': 100, 'max_depth': 4, 'learning_rate': 0.05}\n",
      "Grid scores on development set using GB:\n",
      "\n",
      "0.810 (+/-0.000) for {'n_estimators': 100, 'max_depth': 2, 'learning_rate': 0.05}\n",
      "\n",
      "0.821 (+/-0.002) for {'n_estimators': 100, 'max_depth': 3, 'learning_rate': 0.05}\n",
      "\n",
      "0.843 (+/-0.001) for {'n_estimators': 100, 'max_depth': 4, 'learning_rate': 0.05}\n",
      "\n",
      "0.797 (+/-0.003) for {'n_estimators': 100, 'max_depth': 2, 'learning_rate': 0.02}\n",
      "\n",
      "0.808 (+/-0.000) for {'n_estimators': 100, 'max_depth': 3, 'learning_rate': 0.02}\n",
      "\n",
      "0.813 (+/-0.001) for {'n_estimators': 100, 'max_depth': 4, 'learning_rate': 0.02}\n",
      "\n"
     ]
    }
   ],
   "source": [
    "scorer = make_scorer(f1_score, average='micro') # F1-measure captures the essence of \n",
    "#both precision and recall\n",
    "xgbm = xgb.XGBClassifier(max_depth=3, n_estimators=100, learning_rate=0.05)\n",
    "tuned_parameters = [{'n_estimators': [100],'max_depth':[2,3,4],'learning_rate':[0.05,0.02]}] # grid search, random state set to replicate results\n",
    "clf_xgbm = GridSearchCV(xgbm,tuned_parameters,scoring=scorer, cv=2) #cv only 2 to avoid computational\n",
    "#expense and time, however larger is recommended if you have computational power and time\n",
    "clf_xgbm.fit(xtrain, ytrain)\n",
    "print(\"Best parameters set found on development set using Gradient boosting DT:\")\n",
    "print()\n",
    "print(clf_xgbm.best_params_)\n",
    "print(\"Grid scores on development set using GB:\")\n",
    "print()\n",
    "means = clf_xgbm.cv_results_['mean_test_score']\n",
    "stds = clf_xgbm.cv_results_['std_test_score']\n",
    "for mean, std, params in zip(means, stds, clf_xgbm.cv_results_['params']):\n",
    "    print(\"%0.3f (+/-%0.03f) for %r\"\n",
    "              % (mean, std * 2, params))\n",
    "    print()"
   ]
  },
  {
   "cell_type": "markdown",
   "metadata": {},
   "source": [
    "Random Forest is still winning!"
   ]
  },
  {
   "cell_type": "markdown",
   "metadata": {},
   "source": [
    "### Test Set"
   ]
  },
  {
   "cell_type": "markdown",
   "metadata": {},
   "source": [
    "Time to apply the best model with optimal values on Test Set!\n"
   ]
  },
  {
   "cell_type": "code",
   "execution_count": 21,
   "metadata": {
    "collapsed": false
   },
   "outputs": [
    {
     "name": "stdout",
     "output_type": "stream",
     "text": [
      "Test Score: 0.929\n"
     ]
    },
    {
     "data": {
      "text/plain": [
       "array([[67095,  1078],\n",
       "       [ 5143, 14613]])"
      ]
     },
     "execution_count": 21,
     "metadata": {},
     "output_type": "execute_result"
    }
   ],
   "source": [
    "ypred = clf.predict(xtest)\n",
    "score = f1_score(ytest, ypred, average='micro')\n",
    "print ('Test Score: %0.3f'%(score))\n",
    "fpr, tpr, _ = roc_curve(ytest, ypred)\n",
    "confusion_matrix(ytest, ypred)"
   ]
  },
  {
   "cell_type": "code",
   "execution_count": 22,
   "metadata": {
    "collapsed": false
   },
   "outputs": [
    {
     "data": {
      "image/png": "[encoded data removed]",
      "text/plain": [
       "<matplotlib.figure.Figure at 0x27304e966a0>"
      ]
     },
     "metadata": {},
     "output_type": "display_data"
    }
   ],
   "source": [
    "plt.figure()\n",
    "lw = 2\n",
    "plt.plot(fpr, tpr, color='darkorange',\n",
    "         lw=lw, label='ROC curve')\n",
    "plt.plot([0, 1], [0, 1], color='navy', lw=lw, linestyle='--')\n",
    "plt.xlim([0.0, 1.0])\n",
    "plt.ylim([0.0, 1.05])\n",
    "plt.xlabel('False Positive Rate')\n",
    "plt.ylabel('True Positive Rate')\n",
    "plt.title('Receiver operating characteristic')\n",
    "plt.legend(loc=\"lower right\")\n",
    "plt.show()"
   ]
  },
  {
   "cell_type": "markdown",
   "metadata": {},
   "source": [
    "A random forest has given a very high accuracy of 92.9 we might exceed it slightly by increasing more tree(n_estimator) and considering all features at split(current model only considers sqrt of number of features). Although this simple model has given a decent performance and has even beaten the gradient boosted decision tree at valdiation set accuracy. Looking at the confusion matrix we see that the 67,095 cases were predicted correctly-TP(flight would \"not be delayed\") and 14,613 cases were identified correctly-TN (flight would be \"delayed\"). However if we see the FN, FP in our confusion matrix and shape of ROC, we realize our model is not very good at identifying the flights \"delayed\". Its good at idnetifying flights \"not delayed\".  Out of approximately 20,000 delay cases ,1/4th is incorrectly identified. "
   ]
  },
  {
   "cell_type": "markdown",
   "metadata": {},
   "source": [
    "### Further Work"
   ]
  },
  {
   "cell_type": "markdown",
   "metadata": {},
   "source": [
    "A very small hyper parameter space is explored using gridsearch. In future a more extended grid search can be used. Extreme gradient boosted decision trees (XGBoost) can also be tried in further work to check whether it beats the current best model(RF). In practice one should gradually increase the number of trees in the forest (n_Estimator) to get an idea of where we are hitting the saturation point. Such knee point can be used as the number of trees for our model. We have used complete training set, in future varying training set size and studying the effect on validation set accuracy could help. Luckily we did not have to impute the values but in future if we extend the training set size to more years we might have a better data set and have missing values. Then we can impute missing data with mean, mode, interpolation or a combination of these methods. Moreover, in RF we did not play around how continuous features are binned, this can be explored in further works."
   ]
  }
 ],
 "metadata": {
  "anaconda-cloud": {},
  "kernelspec": {
   "display_name": "Python [default]",
   "language": "python",
   "name": "python3"
  },
  "language_info": {
   "codemirror_mode": {
    "name": "ipython",
    "version": 3
   },
   "file_extension": ".py",
   "mimetype": "text/x-python",
   "name": "python",
   "nbconvert_exporter": "python",
   "pygments_lexer": "ipython3",
   "version": "3.5.2"
  }
 },
 "nbformat": 4,
 "nbformat_minor": 1
}
